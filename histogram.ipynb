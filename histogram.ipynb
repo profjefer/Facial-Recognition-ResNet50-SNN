{
 "cells": [
  {
   "cell_type": "markdown",
   "metadata": {},
   "source": [
    "# SNN performance analysis with histogram and roc curve\n",
    "\n",
    "It is not possible to calculate an accuracy for the SNN alone, since it is not a classifier. Instead, we used distance histograms and ROC curves to evaluate SNN performance. The greater the separability between the distance densities and the greater the area under the ROC curve, the better the SNN.\n",
    "\n",
    "## Code\n",
    "\n",
    "The next 8 cells are the same as the cells shown in the training notebook, with the only difference being that the SNN weights are loaded from a file rather than fitted.\n",
    "\n",
    "To run this notebook on Google Colab, you will need to upload files:\n",
    "\n",
    "* helper.py\n",
    "* pairing.py\n",
    "* partitioning.py\n",
    "* snn.py "
   ]
  },
  {
   "cell_type": "code",
   "execution_count": 1,
   "metadata": {},
   "outputs": [],
   "source": [
    "import pandas as pd\n",
    "import numpy as np\n",
    "import matplotlib.pyplot as plt\n",
    "import os\n",
    "from tensorflow import keras\n",
    "from tensorflow.keras import layers\n",
    "from tensorflow.keras.applications.resnet50 import ResNet50\n",
    "from snn import SNN\n",
    "import helper"
   ]
  },
  {
   "cell_type": "code",
   "execution_count": 2,
   "metadata": {},
   "outputs": [
    {
     "name": "stdout",
     "output_type": "stream",
     "text": [
      "Found celeba Data\n",
      "Downloading metadata...\n",
      "done\n"
     ]
    }
   ],
   "source": [
    "helper.download_celeba()"
   ]
  },
  {
   "cell_type": "code",
   "execution_count": 3,
   "metadata": {},
   "outputs": [
    {
     "name": "stdout",
     "output_type": "stream",
     "text": [
      "Generating partitions (EVAL=1/4, TRAIN=3/4)\n",
      "Partitions file already generated\n"
     ]
    }
   ],
   "source": [
    "from partitioning import build_celeba_partitions\n",
    "build_celeba_partitions()"
   ]
  },
  {
   "cell_type": "code",
   "execution_count": 4,
   "metadata": {},
   "outputs": [
    {
     "name": "stdout",
     "output_type": "stream",
     "text": [
      "EVAL\n",
      "Already generated\n",
      "TRAINING\n",
      "Already generated\n"
     ]
    }
   ],
   "source": [
    "from pairing import build_celeba_pairs\n",
    "build_celeba_pairs()"
   ]
  },
  {
   "cell_type": "code",
   "execution_count": 5,
   "metadata": {},
   "outputs": [],
   "source": [
    "def load_images(paths):\n",
    "    images = [helper.get_image(path, 80, 80, 'RGB').astype(np.float)/255 for path in paths]\n",
    "    return np.array(images)"
   ]
  },
  {
   "cell_type": "code",
   "execution_count": 6,
   "metadata": {},
   "outputs": [],
   "source": [
    "eval_genuine_pairs = pd.read_csv(os.path.join('celeba_pairs', 'eval_genuine_pairs.csv'))\n",
    "eval_impostor_pairs = pd.read_csv(os.path.join('celeba_pairs', 'eval_impostor_pairs.csv'))"
   ]
  },
  {
   "cell_type": "code",
   "execution_count": 7,
   "metadata": {},
   "outputs": [],
   "source": [
    "def build_resnet50_encoder(n_features=100):\n",
    "    base_model = ResNet50(weights=None, include_top=False, input_shape=(80,80,3))\n",
    "    x = base_model.output\n",
    "    x = layers.GlobalAveragePooling2D()(x)\n",
    "    x = layers.Dropout(0.7)(x)\n",
    "    x = layers.Dense(n_features, activation='linear')(x)\n",
    "    model = keras.Model(inputs = base_model.input, outputs = x)\n",
    "    return model"
   ]
  },
  {
   "cell_type": "code",
   "execution_count": 8,
   "metadata": {},
   "outputs": [
    {
     "name": "stderr",
     "output_type": "stream",
     "text": [
      "2022-02-12 03:59:00.151246: I tensorflow/compiler/jit/xla_cpu_device.cc:41] Not creating XLA devices, tf_xla_enable_xla_devices not set\n",
      "2022-02-12 03:59:00.151722: I tensorflow/core/platform/cpu_feature_guard.cc:142] This TensorFlow binary is optimized with oneAPI Deep Neural Network Library (oneDNN) to use the following CPU instructions in performance-critical operations:  SSE4.1 SSE4.2 AVX AVX2 FMA\n",
      "To enable them in other operations, rebuild TensorFlow with the appropriate compiler flags.\n",
      "2022-02-12 03:59:00.154231: I tensorflow/core/common_runtime/process_util.cc:146] Creating new thread pool with default inter op setting: 2. Tune using inter_op_parallelism_threads for best performance.\n"
     ]
    }
   ],
   "source": [
    "my_snn = SNN((80,80,3),build_resnet50_encoder())\n",
    "my_snn.load_encoder('resnet50_encoder_weights.h5')"
   ]
  },
  {
   "cell_type": "markdown",
   "metadata": {},
   "source": [
    "In the next cell, the X and Y functions are intended to generate the genuine and imposter image pairs."
   ]
  },
  {
   "cell_type": "code",
   "execution_count": 9,
   "metadata": {},
   "outputs": [],
   "source": [
    "def get_genuine_pairs(n_pairs=1000):\n",
    "    assert eval_genuine_pairs.shape[0] >= n_pairs\n",
    "    my_rows = eval_genuine_pairs.sample(n=n_pairs)\n",
    "    images_a = load_images([os.path.join('celeba', 'img_align_celeba', fn) for fn in list(my_rows['file_a'])])\n",
    "    images_b = load_images([os.path.join('celeba', 'img_align_celeba', fn) for fn in list(my_rows['file_b'])])\n",
    "    return [images_a, images_b]\n",
    "\n",
    "def get_impostor_pairs(n_pairs=1000):\n",
    "    assert eval_impostor_pairs.shape[0] >= n_pairs\n",
    "    my_rows = eval_impostor_pairs.sample(n=n_pairs)\n",
    "    images_a = load_images([os.path.join('celeba', 'img_align_celeba', fn) for fn in list(my_rows['file_a'])])\n",
    "    images_b = load_images([os.path.join('celeba', 'img_align_celeba', fn) for fn in list(my_rows['file_b'])])\n",
    "    return [images_a, images_b]"
   ]
  },
  {
   "cell_type": "markdown",
   "metadata": {},
   "source": [
    "In the next cell, the distances will be taken from the trained SNN."
   ]
  },
  {
   "cell_type": "code",
   "execution_count": 10,
   "metadata": {},
   "outputs": [
    {
     "name": "stderr",
     "output_type": "stream",
     "text": [
      "2022-02-12 04:00:05.355319: I tensorflow/compiler/mlir/mlir_graph_optimization_pass.cc:116] None of the MLIR optimization passes are enabled (registered 2)\n",
      "2022-02-12 04:00:05.477884: I tensorflow/core/platform/profile_utils/cpu_utils.cc:112] CPU Frequency: 1596235000 Hz\n"
     ]
    }
   ],
   "source": [
    "genuine_pairs = get_genuine_pairs()\n",
    "impostor_pairs = get_impostor_pairs()\n",
    "\n",
    "distances_genuines = my_snn.keras_model.predict(genuine_pairs)\n",
    "distances_impostors = my_snn.keras_model.predict(impostor_pairs)"
   ]
  },
  {
   "cell_type": "markdown",
   "metadata": {},
   "source": [
    "In the next cell, the distance densities will be plotted in histograms. Note that the more separate the distance distribution of the genuine pairs is from the distance distribution of the imposter pairs, the better the SNN."
   ]
  },
  {
   "cell_type": "code",
   "execution_count": 13,
   "metadata": {},
   "outputs": [
    {
     "data": {
      "image/png": "[encoded data removed]",
      "text/plain": [
       "<Figure size 432x288 with 1 Axes>"
      ]
     },
     "metadata": {
      "needs_background": "light"
     },
     "output_type": "display_data"
    }
   ],
   "source": [
    "ng, bg, pg = plt.hist(distances_genuines, bins=50, color='blue', alpha=0.5, label='Genuine pairs', density=True)\n",
    "ni, bi, pi = plt.hist(distances_impostors, bins=50, color='red', alpha=0.5, label='Impostor pairs', density=True)\n",
    "plt.xlabel('Euclidean distance')\n",
    "plt.ylabel('Density')  \n",
    "plt.legend()\n",
    "plt.grid()\n",
    "plt.show()"
   ]
  },
  {
   "cell_type": "markdown",
   "metadata": {},
   "source": [
    "The next two cells are for the purpose of plotting an ROC curve. The larger the area under the curve, the better."
   ]
  },
  {
   "cell_type": "code",
   "execution_count": 16,
   "metadata": {},
   "outputs": [],
   "source": [
    "def plot_roc(x, good_pdf, bad_pdf, ax):\n",
    "    '''\n",
    "    Source: https://towardsdatascience.com/receiver-operating-characteristic-curves-demystified-in-python-bd531a4364d0\n",
    "    '''\n",
    "    #Total\n",
    "    total_bad = np.sum(bad_pdf)\n",
    "    total_good = np.sum(good_pdf)\n",
    "    #Cumulative sum\n",
    "    cum_TP = 0\n",
    "    cum_FP = 0\n",
    "    #TPR and FPR list initialization\n",
    "    TPR_list=[]\n",
    "    FPR_list=[]\n",
    "    #Iteratre through all values of x\n",
    "    for i in range(len(x)):\n",
    "        #We are only interested in non-zero values of bad\n",
    "        if bad_pdf[i]>0:\n",
    "            cum_TP+=bad_pdf[len(x)-1-i]\n",
    "            cum_FP+=good_pdf[len(x)-1-i]\n",
    "        FPR=cum_FP/total_good\n",
    "        TPR=cum_TP/total_bad\n",
    "        TPR_list.append(TPR)\n",
    "        FPR_list.append(FPR)\n",
    "    #Calculating AUC, taking the 100 timesteps into account\n",
    "    auc=np.sum(TPR_list)/100\n",
    "    #Plotting final ROC curve\n",
    "    ax.plot(FPR_list, TPR_list)\n",
    "    ax.plot(x,x, \"--\")\n",
    "    ax.set_xlim([0,1])\n",
    "    ax.set_ylim([0,1])\n",
    "    ax.set_title(\"ROC Curve\", fontsize=14)\n",
    "    ax.set_ylabel('TPR', fontsize=12)\n",
    "    ax.set_xlabel('FPR', fontsize=12)\n",
    "    ax.grid()\n",
    "    ax.legend([\"AUC=%.3f\"%auc])"
   ]
  },
  {
   "cell_type": "code",
   "execution_count": 17,
   "metadata": {},
   "outputs": [
    {
     "data": {
      "image/png": "[encoded data removed]",
      "text/plain": [
       "<Figure size 720x360 with 1 Axes>"
      ]
     },
     "metadata": {
      "needs_background": "light"
     },
     "output_type": "display_data"
    }
   ],
   "source": [
    "fig, ax = plt.subplots(1,1, figsize=(10,5))\n",
    "plot_roc(np.arange(ng.shape[0]), ng, ni, ax)"
   ]
  }
 ],
 "metadata": {
  "interpreter": {
   "hash": "0b0c1afb09a890ec0f70a52038241e9984908d1a33ff4685df2a9c777506c484"
  },
  "kernelspec": {
   "display_name": "Python 3.8.8 ('ds')",
   "language": "python",
   "name": "python3"
  },
  "language_info": {
   "codemirror_mode": {
    "name": "ipython",
    "version": 3
   },
   "file_extension": ".py",
   "mimetype": "text/x-python",
   "name": "python",
   "nbconvert_exporter": "python",
   "pygments_lexer": "ipython3",
   "version": "3.8.8"
  },
  "orig_nbformat": 4
 },
 "nbformat": 4,
 "nbformat_minor": 2
}
