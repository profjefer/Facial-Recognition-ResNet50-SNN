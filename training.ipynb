{
 "cells": [
  {
   "cell_type": "code",
   "execution_count": null,
   "metadata": {},
   "outputs": [],
   "source": [
    "import numpy as np\n",
    "import pandas as pd\n",
    "import matplotlib.pyplot as plt\n",
    "import os\n",
    "import tensorflow as tf\n",
    "from tensorflow import keras\n",
    "from tensorflow.keras import layers\n",
    "from tensorflow.keras.applications.resnet50 import ResNet50\n",
    "import helper\n",
    "\n",
    "from snn import SNNGenerator, SNN"
   ]
  },
  {
   "cell_type": "code",
   "execution_count": null,
   "metadata": {},
   "outputs": [],
   "source": [
    "helper.download_celeba()"
   ]
  },
  {
   "cell_type": "code",
   "execution_count": null,
   "metadata": {},
   "outputs": [],
   "source": [
    "from partitioning import build_celeba_partitions\n",
    "build_celeba_partitions()"
   ]
  },
  {
   "cell_type": "code",
   "execution_count": null,
   "metadata": {},
   "outputs": [],
   "source": [
    "from pairing import build_celeba_pairs\n",
    "build_celeba_pairs()"
   ]
  },
  {
   "cell_type": "code",
   "execution_count": null,
   "metadata": {},
   "outputs": [],
   "source": [
    "def load_images(paths):\n",
    "    images = [helper.get_image(path, 80, 80, 'RGB').astype(np.float)/255 for path in paths]\n",
    "    return np.array(images)"
   ]
  },
  {
   "cell_type": "code",
   "execution_count": null,
   "metadata": {},
   "outputs": [],
   "source": [
    "class CelebAGenerator(SNNGenerator):\n",
    "    def __init__(self, genuine_pairs_df: pd.DataFrame, impostor_pairs_df: pd.DataFrame, batch_size: int):\n",
    "        self.__genuine_pairs_df__ = genuine_pairs_df\n",
    "        self.__impostor_pairs_df__ = impostor_pairs_df\n",
    "        self.__batch_size__ = batch_size\n",
    "    \n",
    "    def __len__(self):\n",
    "        return (self.__genuine_pairs_df__.shape[0]+self.__impostor_pairs_df__.shape[0])//self.__batch_size__\n",
    "\n",
    "    def __getitem__(self, index: int):\n",
    "        def get_genuines():\n",
    "            my_rows = self.__genuine_pairs_df__.sample(n=self.__batch_size__//2, replace=False)\n",
    "            images_a = load_images([os.path.join('celeba', 'img_align_celeba', fn) for fn in list(my_rows['file_a'])])\n",
    "            images_b = load_images([os.path.join('celeba', 'img_align_celeba', fn) for fn in list(my_rows['file_b'])])\n",
    "            images_y = np.ones(shape=(self.__batch_size__//2,1))\n",
    "            return images_a, images_b, images_y\n",
    "\n",
    "        def get_impostors():\n",
    "            my_rows = self.__impostor_pairs_df__.sample(n=self.__batch_size__//2, replace=False)\n",
    "            images_a = load_images([os.path.join('celeba', 'img_align_celeba', fn) for fn in list(my_rows['file_a'])])\n",
    "            images_b = load_images([os.path.join('celeba', 'img_align_celeba', fn) for fn in list(my_rows['file_b'])])\n",
    "            images_y = np.zeros(shape=(self.__batch_size__//2,1))\n",
    "            return images_a, images_b, images_y\n",
    "\n",
    "        genuines_a, genuines_b, genuines_y = get_genuines()\n",
    "        impostors_a, impostors_b, impostors_y = get_impostors()\n",
    "        a = np.append(genuines_a, impostors_a, axis=0)\n",
    "        b = np.append(genuines_b, impostors_b, axis=0)\n",
    "        y = np.append(genuines_y, impostors_y, axis=0)\n",
    "        return ([a, b], y)"
   ]
  },
  {
   "cell_type": "code",
   "execution_count": null,
   "metadata": {},
   "outputs": [],
   "source": [
    "training_genuine_pairs = pd.read_csv(os.path.join('celeba_pairs', 'training_genuine_pairs.csv'))\n",
    "training_impostor_pairs = pd.read_csv(os.path.join('celeba_pairs', 'training_impostor_pairs.csv'))\n",
    "eval_genuine_pairs = pd.read_csv(os.path.join('celeba_pairs', 'eval_genuine_pairs.csv'))\n",
    "eval_impostor_pairs = pd.read_csv(os.path.join('celeba_pairs', 'eval_impostor_pairs.csv'))"
   ]
  },
  {
   "cell_type": "code",
   "execution_count": null,
   "metadata": {},
   "outputs": [],
   "source": [
    "divider = 100\n",
    "training_genuine_pairs = training_genuine_pairs.sample(n=training_genuine_pairs.shape[0]//divider, random_state=1)\n",
    "training_impostor_pairs = training_impostor_pairs.sample(n=training_impostor_pairs.shape[0]//divider, random_state=1)\n",
    "eval_genuine_pairs = eval_genuine_pairs.sample(n=eval_genuine_pairs.shape[0]//divider, random_state=1)\n",
    "eval_impostor_pairs = eval_impostor_pairs.sample(n=eval_impostor_pairs.shape[0]//divider, random_state=1)\n"
   ]
  },
  {
   "cell_type": "code",
   "execution_count": null,
   "metadata": {},
   "outputs": [],
   "source": [
    "def build_resnet50_encoder(n_features=100):\n",
    "    base_model = ResNet50(weights=None, include_top=False, input_shape=(80,80,3))\n",
    "    x = base_model.output\n",
    "    x = layers.GlobalAveragePooling2D()(x)\n",
    "    x = layers.Dropout(0.7)(x)\n",
    "    x = layers.Dense(n_features, activation='linear')(x)\n",
    "    model = keras.Model(inputs = base_model.input, outputs = x)\n",
    "    return model"
   ]
  },
  {
   "cell_type": "code",
   "execution_count": null,
   "metadata": {},
   "outputs": [],
   "source": [
    "my_snn = SNN((80,80,3),build_resnet50_encoder())"
   ]
  },
  {
   "cell_type": "code",
   "execution_count": null,
   "metadata": {},
   "outputs": [],
   "source": [
    "training_generator = CelebAGenerator(training_genuine_pairs, training_impostor_pairs, 50)\n",
    "eval_generator = CelebAGenerator(eval_genuine_pairs, eval_impostor_pairs, 50)\n",
    "my_snn.fit(training_generator, eval_generator, epochs=100)"
   ]
  }
 ],
 "metadata": {
  "interpreter": {
   "hash": "0b0c1afb09a890ec0f70a52038241e9984908d1a33ff4685df2a9c777506c484"
  },
  "kernelspec": {
   "display_name": "Python 3.8.8 ('ds')",
   "language": "python",
   "name": "python3"
  },
  "language_info": {
   "codemirror_mode": {
    "name": "ipython",
    "version": 3
   },
   "file_extension": ".py",
   "mimetype": "text/x-python",
   "name": "python",
   "nbconvert_exporter": "python",
   "pygments_lexer": "ipython3",
   "version": "3.8.8"
  },
  "orig_nbformat": 4
 },
 "nbformat": 4,
 "nbformat_minor": 2
}
